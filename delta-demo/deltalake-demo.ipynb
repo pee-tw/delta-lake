{
 "cells": [
  {
   "cell_type": "code",
   "execution_count": 1,
   "metadata": {
    "tags": []
   },
   "outputs": [
    {
     "name": "stdout",
     "output_type": "stream",
     "text": [
      ":: loading settings :: url = jar:file:/Users/pii/Library/Caches/pypoetry/virtualenvs/delta-demo-1o0m9wMe-py3.10/lib/python3.10/site-packages/pyspark/jars/ivy-2.5.0.jar!/org/apache/ivy/core/settings/ivysettings.xml\n"
     ]
    },
    {
     "name": "stderr",
     "output_type": "stream",
     "text": [
      "Ivy Default Cache set to: /Users/pii/.ivy2/cache\n",
      "The jars for the packages stored in: /Users/pii/.ivy2/jars\n",
      "io.delta#delta-core_2.12 added as a dependency\n",
      ":: resolving dependencies :: org.apache.spark#spark-submit-parent-212ac570-960f-4b67-b6b5-2219323f0dd8;1.0\n",
      "\tconfs: [default]\n",
      "\tfound io.delta#delta-core_2.12;2.1.0 in central\n",
      "\tfound io.delta#delta-storage;2.1.0 in central\n",
      "\tfound org.antlr#antlr4-runtime;4.8 in central\n",
      "\tfound org.codehaus.jackson#jackson-core-asl;1.9.13 in central\n",
      ":: resolution report :: resolve 192ms :: artifacts dl 9ms\n",
      "\t:: modules in use:\n",
      "\tio.delta#delta-core_2.12;2.1.0 from central in [default]\n",
      "\tio.delta#delta-storage;2.1.0 from central in [default]\n",
      "\torg.antlr#antlr4-runtime;4.8 from central in [default]\n",
      "\torg.codehaus.jackson#jackson-core-asl;1.9.13 from central in [default]\n",
      "\t---------------------------------------------------------------------\n",
      "\t|                  |            modules            ||   artifacts   |\n",
      "\t|       conf       | number| search|dwnlded|evicted|| number|dwnlded|\n",
      "\t---------------------------------------------------------------------\n",
      "\t|      default     |   4   |   0   |   0   |   0   ||   4   |   0   |\n",
      "\t---------------------------------------------------------------------\n",
      ":: retrieving :: org.apache.spark#spark-submit-parent-212ac570-960f-4b67-b6b5-2219323f0dd8\n",
      "\tconfs: [default]\n",
      "\t0 artifacts copied, 4 already retrieved (0kB/5ms)\n"
     ]
    },
    {
     "name": "stdout",
     "output_type": "stream",
     "text": [
      "22/10/14 15:34:46 WARN NativeCodeLoader: Unable to load native-hadoop library for your platform... using builtin-java classes where applicable\n"
     ]
    },
    {
     "name": "stderr",
     "output_type": "stream",
     "text": [
      "Setting default log level to \"WARN\".\n",
      "To adjust logging level use sc.setLogLevel(newLevel). For SparkR, use setLogLevel(newLevel).\n"
     ]
    }
   ],
   "source": [
    "from delta import *\n",
    "import pyspark\n",
    "from pyspark.sql import SparkSession\n",
    "\n",
    "delta_spark_version = \"2.1.0\"\n",
    "spark_jars_packages = f\"io.delta:delta-core_2.12:{delta_spark_version}\"\n",
    "\n",
    "spark = (\n",
    "            SparkSession.builder.master(\"local[*]\")\n",
    "                .appName(\"PySparkLocal\")\n",
    "                .config(\"spark.executor.memory\", \"4g\")\n",
    "                .config(\"spark.driver.memory\", \"2g\")\n",
    "                .config(\"spark.memory.offHeap.enabled\", True)\n",
    "                .config(\"spark.memory.offHeap.size\",\"8g\")\n",
    "                .config(\"spark.jars.packages\", spark_jars_packages)\n",
    "                .config(\"spark.sql.sources.partitionOverwriteMode\", \"dynamic\")\n",
    "                .config(\"spark.sql.extensions\", \"io.delta.sql.DeltaSparkSessionExtension\")\n",
    "                .config(\"spark.sql.catalog.spark_catalog\", \"org.apache.spark.sql.delta.catalog.DeltaCatalog\")\n",
    "                .config(\"spark.databricks.delta.schema.autoMerge.enabled\", \"true\")\n",
    "                .config(\"spark.databricks.delta.retentionDurationCheck.enabled\", \"false\")\n",
    "                .config(\"spark.databricks.delta.optimize.repartition.enabled\", \"true\")\n",
    "                .getOrCreate()\n",
    "        )"
   ]
  },
  {
   "cell_type": "code",
   "execution_count": 9,
   "metadata": {},
   "outputs": [
    {
     "data": {
      "text/plain": [
       "30056370"
      ]
     },
     "execution_count": 9,
     "metadata": {},
     "output_type": "execute_result"
    }
   ],
   "source": [
    "deltaDf = spark.read.format(\"delta\").load('../Deltalake/crypto')\n",
    "deltaDf.count()"
   ]
  },
  {
   "cell_type": "code",
   "execution_count": 10,
   "metadata": {},
   "outputs": [
    {
     "name": "stderr",
     "output_type": "stream",
     "text": [
      "                                                                                \r"
     ]
    },
    {
     "data": {
      "text/plain": [
       "15"
      ]
     },
     "execution_count": 10,
     "metadata": {},
     "output_type": "execute_result"
    }
   ],
   "source": [
    "deltaDf.select('isoDate').distinct().count()"
   ]
  },
  {
   "cell_type": "code",
   "execution_count": 11,
   "metadata": {},
   "outputs": [
    {
     "name": "stdout",
     "output_type": "stream",
     "text": [
      "+---------+--------+--------+--------------+-------------+------------+-----------+-----------+----+----------+\n",
      "|  tradeId|   price|     qty|      quoteQty|         time|isBuyerMaker|isBestMatch|tradingPair|year|   isoDate|\n",
      "+---------+--------+--------+--------------+-------------+------------+-----------+-----------+----+----------+\n",
      "|694889278|53611.41|0.009328|  500.08723248|1615354518394|        true|       true|    BTCUSDT|2021|2021-03-10|\n",
      "|694889279|53611.41| 0.02614|  1401.4022574|1615354518462|        true|       true|    BTCUSDT|2021|2021-03-10|\n",
      "|694889280|53611.42| 1.95E-4|    10.4542269|1615354518481|       false|       true|    BTCUSDT|2021|2021-03-10|\n",
      "|694889281|53611.41|0.011533|  618.30039153|1615354518689|        true|       true|    BTCUSDT|2021|2021-03-10|\n",
      "|694889282|53611.42|  9.1E-4|    48.7863922|1615354518795|       false|       true|    BTCUSDT|2021|2021-03-10|\n",
      "|694889283|53611.42|0.007399|  396.67089658|1615354519113|       false|       true|    BTCUSDT|2021|2021-03-10|\n",
      "|694889284|53611.41|0.161207| 8642.53457187|1615354519256|        true|       true|    BTCUSDT|2021|2021-03-10|\n",
      "|694889285|53605.51|0.017357|  930.43083707|1615354519448|       false|       true|    BTCUSDT|2021|2021-03-10|\n",
      "|694889286|53602.67|0.006576|  352.49115792|1615354519470|       false|       true|    BTCUSDT|2021|2021-03-10|\n",
      "|694889287|53602.67|0.016457|  882.13914019|1615354519494|       false|       true|    BTCUSDT|2021|2021-03-10|\n",
      "|694889288|53602.67|0.002375|  127.30634125|1615354519533|       false|       true|    BTCUSDT|2021|2021-03-10|\n",
      "|694889289|53602.67|0.003895|  208.78239965|1615354519588|       false|       true|    BTCUSDT|2021|2021-03-10|\n",
      "|694889290|53602.67|0.023952| 1283.89115184|1615354519630|       false|       true|    BTCUSDT|2021|2021-03-10|\n",
      "|694889291|53602.67|0.001813|   97.18164071|1615354519773|       false|       true|    BTCUSDT|2021|2021-03-10|\n",
      "|694889292|53602.67| 0.00272|   145.7992624|1615354519815|       false|       true|    BTCUSDT|2021|2021-03-10|\n",
      "|694889293|53602.67|0.192212|10303.07640604|1615354519944|       false|       true|    BTCUSDT|2021|2021-03-10|\n",
      "|694889294|53602.67| 5.82E-4|   31.19675394|1615354519944|       false|       true|    BTCUSDT|2021|2021-03-10|\n",
      "|694889295|53602.67|0.002836|  152.01717212|1615354519944|       false|       true|    BTCUSDT|2021|2021-03-10|\n",
      "|694889296|53602.67|  4.0E-6|    0.21441068|1615354519961|       false|       true|    BTCUSDT|2021|2021-03-10|\n",
      "|694889297|53603.32|0.005996|  321.40550672|1615354519961|       false|       true|    BTCUSDT|2021|2021-03-10|\n",
      "+---------+--------+--------+--------------+-------------+------------+-----------+-----------+----+----------+\n",
      "only showing top 20 rows\n",
      "\n"
     ]
    }
   ],
   "source": [
    "deltaDf.show()"
   ]
  },
  {
   "cell_type": "code",
   "execution_count": 12,
   "metadata": {},
   "outputs": [
    {
     "name": "stdout",
     "output_type": "stream",
     "text": [
      "+----------------+\n",
      "|      avg(price)|\n",
      "+----------------+\n",
      "|52848.8452207497|\n",
      "+----------------+\n",
      "\n"
     ]
    }
   ],
   "source": [
    "from pyspark.sql.functions import avg\n",
    "\n",
    "deltaDf.select(avg(deltaDf.price)).show()"
   ]
  },
  {
   "cell_type": "code",
   "execution_count": 64,
   "metadata": {},
   "outputs": [
    {
     "name": "stdout",
     "output_type": "stream",
     "text": [
      "+-------+--------------------+------+--------+---------+--------------------+----+--------+---------+-----------+--------------+-------------+--------------------+------------+--------------------+\n",
      "|version|           timestamp|userId|userName|operation| operationParameters| job|notebook|clusterId|readVersion|isolationLevel|isBlindAppend|    operationMetrics|userMetadata|          engineInfo|\n",
      "+-------+--------------------+------+--------+---------+--------------------+----+--------+---------+-----------+--------------+-------------+--------------------+------------+--------------------+\n",
      "|     32|2022-10-11 14:58:...|  null|    null|    WRITE|{mode -> Overwrit...|null|    null|     null|         31|  Serializable|        false|{numFiles -> 12, ...|        null|Apache-Spark/3.3....|\n",
      "|     31|2022-10-11 14:58:...|  null|    null|    WRITE|{mode -> Overwrit...|null|    null|     null|         30|  Serializable|        false|{numFiles -> 12, ...|        null|Apache-Spark/3.3....|\n",
      "|     30|2022-10-11 14:58:...|  null|    null|    WRITE|{mode -> Overwrit...|null|    null|     null|         29|  Serializable|        false|{numFiles -> 12, ...|        null|Apache-Spark/3.3....|\n",
      "|     29|2022-10-11 14:58:...|  null|    null|    WRITE|{mode -> Overwrit...|null|    null|     null|         28|  Serializable|        false|{numFiles -> 12, ...|        null|Apache-Spark/3.3....|\n",
      "|     28|2022-10-11 14:58:...|  null|    null|    WRITE|{mode -> Overwrit...|null|    null|     null|         27|  Serializable|        false|{numFiles -> 12, ...|        null|Apache-Spark/3.3....|\n",
      "|     27|2022-10-11 14:58:...|  null|    null|    WRITE|{mode -> Overwrit...|null|    null|     null|         26|  Serializable|        false|{numFiles -> 12, ...|        null|Apache-Spark/3.3....|\n",
      "|     26|2022-10-11 14:57:...|  null|    null|    WRITE|{mode -> Overwrit...|null|    null|     null|         25|  Serializable|        false|{numFiles -> 12, ...|        null|Apache-Spark/3.3....|\n",
      "|     25|2022-10-11 14:57:...|  null|    null|    WRITE|{mode -> Overwrit...|null|    null|     null|         24|  Serializable|        false|{numFiles -> 12, ...|        null|Apache-Spark/3.3....|\n",
      "|     24|2022-10-11 14:57:...|  null|    null|    WRITE|{mode -> Overwrit...|null|    null|     null|         23|  Serializable|        false|{numFiles -> 12, ...|        null|Apache-Spark/3.3....|\n",
      "|     23|2022-10-11 14:57:...|  null|    null|    WRITE|{mode -> Overwrit...|null|    null|     null|         22|  Serializable|        false|{numFiles -> 12, ...|        null|Apache-Spark/3.3....|\n",
      "|     22|2022-10-11 14:57:...|  null|    null|    WRITE|{mode -> Overwrit...|null|    null|     null|         21|  Serializable|        false|{numFiles -> 12, ...|        null|Apache-Spark/3.3....|\n",
      "|     21|2022-10-11 14:57:...|  null|    null|    WRITE|{mode -> Overwrit...|null|    null|     null|         20|  Serializable|        false|{numFiles -> 12, ...|        null|Apache-Spark/3.3....|\n",
      "|     20|2022-10-11 14:57:...|  null|    null|    WRITE|{mode -> Overwrit...|null|    null|     null|         19|  Serializable|        false|{numFiles -> 12, ...|        null|Apache-Spark/3.3....|\n",
      "|     19|2022-10-11 14:56:...|  null|    null|    WRITE|{mode -> Overwrit...|null|    null|     null|         18|  Serializable|        false|{numFiles -> 12, ...|        null|Apache-Spark/3.3....|\n",
      "|     18|2022-10-11 14:56:...|  null|    null|    WRITE|{mode -> Overwrit...|null|    null|     null|         17|  Serializable|        false|{numFiles -> 12, ...|        null|Apache-Spark/3.3....|\n",
      "|     17|2022-10-11 14:56:...|  null|    null|    WRITE|{mode -> Overwrit...|null|    null|     null|         16|  Serializable|        false|{numFiles -> 12, ...|        null|Apache-Spark/3.3....|\n",
      "|     16|2022-10-11 14:56:...|  null|    null|    WRITE|{mode -> Overwrit...|null|    null|     null|         15|  Serializable|        false|{numFiles -> 12, ...|        null|Apache-Spark/3.3....|\n",
      "|     15|2022-10-11 14:56:...|  null|    null|    WRITE|{mode -> Overwrit...|null|    null|     null|         14|  Serializable|        false|{numFiles -> 12, ...|        null|Apache-Spark/3.3....|\n",
      "|     14|2022-10-11 14:56:...|  null|    null|    WRITE|{mode -> Overwrit...|null|    null|     null|         13|  Serializable|        false|{numFiles -> 12, ...|        null|Apache-Spark/3.3....|\n",
      "|     13|2022-10-11 14:55:...|  null|    null|    WRITE|{mode -> Overwrit...|null|    null|     null|         12|  Serializable|        false|{numFiles -> 12, ...|        null|Apache-Spark/3.3....|\n",
      "+-------+--------------------+------+--------+---------+--------------------+----+--------+---------+-----------+--------------+-------------+--------------------+------------+--------------------+\n",
      "only showing top 20 rows\n",
      "\n"
     ]
    }
   ],
   "source": [
    "from delta.tables import *\n",
    "\n",
    "deltaTable = DeltaTable.forPath(spark, '../Deltalake/crypto')\n",
    "deltaTable.history().show()"
   ]
  },
  {
   "cell_type": "code",
   "execution_count": 71,
   "metadata": {},
   "outputs": [
    {
     "data": {
      "text/plain": [
       "28226601"
      ]
     },
     "execution_count": 71,
     "metadata": {},
     "output_type": "execute_result"
    }
   ],
   "source": [
    "asOfDf = spark.read.format(\"delta\").option('timestampAsOf', '2022-10-11 14:56:00').load('../Deltalake/crypto')"
   ]
  },
  {
   "cell_type": "code",
   "execution_count": null,
   "metadata": {},
   "outputs": [],
   "source": []
  }
 ],
 "metadata": {
  "kernelspec": {
   "display_name": "Python 3 (ipykernel)",
   "language": "python",
   "name": "python3"
  },
  "language_info": {
   "codemirror_mode": {
    "name": "ipython",
    "version": 3
   },
   "file_extension": ".py",
   "mimetype": "text/x-python",
   "name": "python",
   "nbconvert_exporter": "python",
   "pygments_lexer": "ipython3",
   "version": "3.10.7"
  },
  "vscode": {
   "interpreter": {
    "hash": "0eb9a7fb119b5a3e9956b31c6c428808cd0e2531c502a5c10db01ed11bc7117d"
   }
  }
 },
 "nbformat": 4,
 "nbformat_minor": 4
}
