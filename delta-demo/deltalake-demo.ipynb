{
 "cells": [
  {
   "cell_type": "markdown",
   "metadata": {},
   "source": [
    "# Delta lake demo!"
   ]
  },
  {
   "cell_type": "code",
   "execution_count": null,
   "metadata": {
    "tags": []
   },
   "outputs": [],
   "source": [
    "from delta import *\n",
    "import pyspark\n",
    "from pyspark.sql import SparkSession\n",
    "\n",
    "delta_spark_version = \"2.1.0\"\n",
    "spark_jars_packages = f\"io.delta:delta-core_2.12:{delta_spark_version}\"\n",
    "\n",
    "spark = (\n",
    "            SparkSession.builder.master(\"local[*]\")\n",
    "                .appName(\"PySparkLocal\")\n",
    "                .config(\"spark.executor.memory\", \"2g\")\n",
    "                .config(\"spark.driver.memory\", \"2g\")\n",
    "                .config(\"spark.jars.packages\", spark_jars_packages)\n",
    "                .config(\"spark.sql.sources.partitionOverwriteMode\", \"dynamic\")\n",
    "                .config(\"spark.sql.extensions\", \"io.delta.sql.DeltaSparkSessionExtension\")\n",
    "                .config(\"spark.sql.catalog.spark_catalog\", \"org.apache.spark.sql.delta.catalog.DeltaCatalog\")\n",
    "                .config(\"spark.databricks.delta.schema.autoMerge.enabled\", \"true\")\n",
    "                .config(\"spark.databricks.delta.retentionDurationCheck.enabled\", \"false\") # allow immediage vacuum\n",
    "                .config(\"spark.databricks.delta.optimize.repartition.enabled\", \"true\") # Automatically, avoid small files\n",
    "                .getOrCreate()\n",
    "        )"
   ]
  },
  {
   "cell_type": "markdown",
   "metadata": {},
   "source": [
    "# Check how many records we have"
   ]
  },
  {
   "cell_type": "code",
   "execution_count": null,
   "metadata": {},
   "outputs": [],
   "source": [
    "deltaDf = spark.read.format(\"delta\").load('../Deltalake/crypto')\n",
    "deltaDf.count()"
   ]
  },
  {
   "cell_type": "code",
   "execution_count": null,
   "metadata": {},
   "outputs": [],
   "source": [
    "deltaDf.select('isoDate').distinct().count()"
   ]
  },
  {
   "cell_type": "code",
   "execution_count": null,
   "metadata": {},
   "outputs": [],
   "source": [
    "import pandas as pd\n",
    "\n",
    "pandaDf = deltaDf.limit(100).toPandas()\n",
    "pandaDf.head()"
   ]
  },
  {
   "cell_type": "code",
   "execution_count": null,
   "metadata": {},
   "outputs": [],
   "source": [
    "from pyspark.sql.functions import avg\n",
    "\n",
    "deltaDf.select(avg(deltaDf.price)).show()"
   ]
  },
  {
   "cell_type": "markdown",
   "metadata": {},
   "source": [
    "# What happens when we count again?"
   ]
  },
  {
   "cell_type": "code",
   "execution_count": null,
   "metadata": {},
   "outputs": [],
   "source": [
    "deltaDf.count()"
   ]
  },
  {
   "cell_type": "code",
   "execution_count": null,
   "metadata": {},
   "outputs": [],
   "source": [
    "deltaDf.select('isoDate').distinct().count()"
   ]
  },
  {
   "cell_type": "code",
   "execution_count": null,
   "metadata": {},
   "outputs": [],
   "source": [
    "deltaDf.select(avg(deltaDf.price)).show()"
   ]
  },
  {
   "cell_type": "markdown",
   "metadata": {},
   "source": [
    "# Let's see the table's history!"
   ]
  },
  {
   "cell_type": "code",
   "execution_count": null,
   "metadata": {},
   "outputs": [],
   "source": [
    "from delta.tables import *\n",
    "from IPython.lib.pretty import pretty\n",
    "\n",
    "deltaTable = DeltaTable.forPath(spark, '../Deltalake/crypto')\n",
    "pretty = deltaTable.history().toPandas()\n",
    "display(pretty)"
   ]
  },
  {
   "cell_type": "markdown",
   "metadata": {},
   "source": [
    "# Let's query as of data!"
   ]
  },
  {
   "cell_type": "code",
   "execution_count": null,
   "metadata": {},
   "outputs": [],
   "source": [
    "asOfDf = spark.read.format(\"delta\").option('timestampAsOf', '2022-10-14 15:56:00').load('../Deltalake/crypto')\n",
    "asOfDf.select('isoDate').distinct().count()"
   ]
  },
  {
   "cell_type": "code",
   "execution_count": null,
   "metadata": {},
   "outputs": [],
   "source": [
    "asOfDf.select(avg(asOfDf.price)).show()"
   ]
  },
  {
   "cell_type": "markdown",
   "metadata": {},
   "source": [
    "# Let's see restore in action!"
   ]
  },
  {
   "cell_type": "code",
   "execution_count": null,
   "metadata": {},
   "outputs": [],
   "source": [
    "from delta.tables import *\n",
    "from pyspark.sql.functions import *\n",
    "\n",
    "deltaTable = DeltaTable.forPath(spark, '../Deltalake/crypto')\n",
    "\n",
    "deltaTable.delete(\"isoDate == '2021-03-15'\")"
   ]
  },
  {
   "cell_type": "code",
   "execution_count": null,
   "metadata": {},
   "outputs": [],
   "source": [
    "deltaDf.filter(deltaDf.isoDate == '2021-03-15').show()"
   ]
  },
  {
   "cell_type": "code",
   "execution_count": null,
   "metadata": {},
   "outputs": [],
   "source": [
    "pretty = deltaTable.history().toPandas()\n",
    "display(pretty)"
   ]
  },
  {
   "cell_type": "code",
   "execution_count": null,
   "metadata": {},
   "outputs": [],
   "source": [
    "deltaTable.restoreToVersion(19) # restore table to before delete"
   ]
  },
  {
   "cell_type": "code",
   "execution_count": null,
   "metadata": {},
   "outputs": [],
   "source": [
    "deltaDf.filter(deltaDf.isoDate == '2021-03-15').show()"
   ]
  },
  {
   "cell_type": "markdown",
   "metadata": {},
   "source": [
    "# Behind the scenes"
   ]
  },
  {
   "cell_type": "code",
   "execution_count": null,
   "metadata": {},
   "outputs": [],
   "source": [
    "pretty = deltaTable.detail().toPandas()\n",
    "display(pretty)"
   ]
  },
  {
   "cell_type": "code",
   "execution_count": null,
   "metadata": {},
   "outputs": [],
   "source": [
    "import multiprocessing\n",
    "import math\n",
    "# Because the files are super small, let's reduce the number of files to 2 days per CPU core\n",
    "cpu_count = multiprocessing.cpu_count()\n",
    "numDates = deltaDf.select('isoDate').distinct().count()\n",
    "\n",
    "numFiles = math.floor(cpu_count * numDates / 2)\n",
    "\n",
    "path = '../Deltalake/crypto'\n",
    "\n",
    "(spark.read.format(\"delta\").load(path)\n",
    "    .repartition(numFiles)\n",
    "    .write\n",
    "    .option(\"dataChange\", \"false\")\n",
    "    .format(\"delta\")\n",
    "    .mode(\"overwrite\")\n",
    "    .save(path)\n",
    ")"
   ]
  },
  {
   "cell_type": "code",
   "execution_count": null,
   "metadata": {},
   "outputs": [],
   "source": [
    "pretty = deltaTable.detail().toPandas()\n",
    "display(pretty)"
   ]
  },
  {
   "cell_type": "code",
   "execution_count": null,
   "metadata": {},
   "outputs": [],
   "source": [
    "deltaTable.vacuum(0)"
   ]
  },
  {
   "cell_type": "markdown",
   "metadata": {},
   "source": [
    "# You can always go back to Parquet"
   ]
  },
  {
   "cell_type": "code",
   "execution_count": null,
   "metadata": {},
   "outputs": [],
   "source": [
    "deltaDf.write.format(\"parquet\").mode(\"overwrite\").save('crypto')"
   ]
  },
  {
   "cell_type": "markdown",
   "metadata": {},
   "source": [
    "# Extras section"
   ]
  },
  {
   "cell_type": "code",
   "execution_count": null,
   "metadata": {},
   "outputs": [],
   "source": [
    "deltaTable.optimize().executeZOrderBy('isBuyerMaker') # Co-locate data for adhoc queries (not useful for this dataset)"
   ]
  },
  {
   "cell_type": "code",
   "execution_count": null,
   "metadata": {},
   "outputs": [],
   "source": []
  }
 ],
 "metadata": {
  "kernelspec": {
   "display_name": "Python 3 (ipykernel)",
   "language": "python",
   "name": "python3"
  },
  "language_info": {
   "codemirror_mode": {
    "name": "ipython",
    "version": 3
   },
   "file_extension": ".py",
   "mimetype": "text/x-python",
   "name": "python",
   "nbconvert_exporter": "python",
   "pygments_lexer": "ipython3",
   "version": "3.10.7"
  },
  "vscode": {
   "interpreter": {
    "hash": "0eb9a7fb119b5a3e9956b31c6c428808cd0e2531c502a5c10db01ed11bc7117d"
   }
  }
 },
 "nbformat": 4,
 "nbformat_minor": 4
}
